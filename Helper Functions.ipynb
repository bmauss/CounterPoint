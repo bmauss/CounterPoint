{
 "cells": [
  {
   "cell_type": "markdown",
   "metadata": {},
   "source": [
    "# Helper Functions\n",
    "\n",
    "In this notebook, we're going to be building helper functions to eventually combine into a single function.  The function will take a series of arguments and will output a list of instructions for creating a basic four part harmony that conforms to the rules of counter-point. \n",
    "\n",
    "\n",
    "\n",
    "## Details\n",
    "\n",
    "Due to the complexity and nuance that goes into writing counter-point, we'll be setting some ground rules to avoid certain road blocks.\n",
    "\n",
    "1. Musical Key: The key that the function composes in will **always be in C-Major** and its relative minor key: **A-Natural Minor**.  This will avoid issues with sharps and flats.  Once we get a working function, we'll work on refining it to include A-Harmonic Minor and A-Melodic Minor. \n",
    "\n",
    "2. Rhythm: For simplicity, the function will only be utilizing whole-notes and our time signature will be 4/4. As the function becomes more and more refined, we'll introduce additional functionality."
   ]
  },
  {
   "cell_type": "code",
   "execution_count": 1,
   "metadata": {
    "ExecuteTime": {
     "end_time": "2021-02-03T17:22:54.054061Z",
     "start_time": "2021-02-03T17:22:54.051051Z"
    }
   },
   "outputs": [],
   "source": [
    "import numpy as np"
   ]
  },
  {
   "cell_type": "code",
   "execution_count": null,
   "metadata": {},
   "outputs": [],
   "source": []
  }
 ],
 "metadata": {
  "kernelspec": {
   "display_name": "Python [conda env:learn-env] *",
   "language": "python",
   "name": "conda-env-learn-env-py"
  },
  "language_info": {
   "codemirror_mode": {
    "name": "ipython",
    "version": 3
   },
   "file_extension": ".py",
   "mimetype": "text/x-python",
   "name": "python",
   "nbconvert_exporter": "python",
   "pygments_lexer": "ipython3",
   "version": "3.6.12"
  },
  "toc": {
   "base_numbering": 1,
   "nav_menu": {},
   "number_sections": true,
   "sideBar": true,
   "skip_h1_title": false,
   "title_cell": "Table of Contents",
   "title_sidebar": "Contents",
   "toc_cell": false,
   "toc_position": {},
   "toc_section_display": true,
   "toc_window_display": false
  },
  "varInspector": {
   "cols": {
    "lenName": 16,
    "lenType": 16,
    "lenVar": 40
   },
   "kernels_config": {
    "python": {
     "delete_cmd_postfix": "",
     "delete_cmd_prefix": "del ",
     "library": "var_list.py",
     "varRefreshCmd": "print(var_dic_list())"
    },
    "r": {
     "delete_cmd_postfix": ") ",
     "delete_cmd_prefix": "rm(",
     "library": "var_list.r",
     "varRefreshCmd": "cat(var_dic_list()) "
    }
   },
   "types_to_exclude": [
    "module",
    "function",
    "builtin_function_or_method",
    "instance",
    "_Feature"
   ],
   "window_display": false
  }
 },
 "nbformat": 4,
 "nbformat_minor": 4
}
